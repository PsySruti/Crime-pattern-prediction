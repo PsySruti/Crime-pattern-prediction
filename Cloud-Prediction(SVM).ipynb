{
 "cells": [
  {
   "cell_type": "code",
   "execution_count": 1,
   "metadata": {
    "collapsed": true
   },
   "outputs": [],
   "source": [
    "import matplotlib\n",
    "matplotlib.use('TkAgg')\n",
    "import pandas as pd\n",
    "import numpy as np\n",
    "import matplotlib.pyplot as plt\n",
    "import plotly.plotly as py\n",
    "import plotly.figure_factory as ff\n",
    "from collections import Counter\n",
    "import seaborn as sns\n",
    "import datetime\n",
    "%matplotlib inline"
   ]
  },
  {
   "cell_type": "code",
   "execution_count": 2,
   "metadata": {},
   "outputs": [
    {
     "data": {
      "text/plain": [
       "(1954240, 26)"
      ]
     },
     "execution_count": 2,
     "metadata": {},
     "output_type": "execute_result"
    }
   ],
   "source": [
    "Crime_data_Final = pd.read_csv(\"/Users/chandanramanna/Downloads/CrimeData_Final.csv\")\n",
    "Crime_data_Final.shape"
   ]
  },
  {
   "cell_type": "code",
   "execution_count": 3,
   "metadata": {},
   "outputs": [
    {
     "data": {
      "text/html": [
       "<div>\n",
       "<style>\n",
       "    .dataframe thead tr:only-child th {\n",
       "        text-align: right;\n",
       "    }\n",
       "\n",
       "    .dataframe thead th {\n",
       "        text-align: left;\n",
       "    }\n",
       "\n",
       "    .dataframe tbody tr th {\n",
       "        vertical-align: top;\n",
       "    }\n",
       "</style>\n",
       "<table border=\"1\" class=\"dataframe\">\n",
       "  <thead>\n",
       "    <tr style=\"text-align: right;\">\n",
       "      <th></th>\n",
       "      <th>Unnamed: 0</th>\n",
       "      <th>Unnamed: 0.1</th>\n",
       "      <th>ID</th>\n",
       "      <th>Case Number</th>\n",
       "      <th>Date</th>\n",
       "      <th>Block</th>\n",
       "      <th>IUCR</th>\n",
       "      <th>Primary Type</th>\n",
       "      <th>Description</th>\n",
       "      <th>Location Description</th>\n",
       "      <th>...</th>\n",
       "      <th>FBI Code</th>\n",
       "      <th>X Coordinate</th>\n",
       "      <th>Y Coordinate</th>\n",
       "      <th>Year</th>\n",
       "      <th>Updated On</th>\n",
       "      <th>Latitude</th>\n",
       "      <th>Longitude</th>\n",
       "      <th>Location</th>\n",
       "      <th>Time</th>\n",
       "      <th>Month</th>\n",
       "    </tr>\n",
       "  </thead>\n",
       "  <tbody>\n",
       "    <tr>\n",
       "      <th>0</th>\n",
       "      <td>0</td>\n",
       "      <td>18</td>\n",
       "      <td>10500187</td>\n",
       "      <td>HZ241477</td>\n",
       "      <td>2016-04-26</td>\n",
       "      <td>028XX E 95TH ST</td>\n",
       "      <td>1121</td>\n",
       "      <td>DECEPTIVE PRACTICE</td>\n",
       "      <td>COUNTERFEITING DOCUMENT</td>\n",
       "      <td>GAS STATION</td>\n",
       "      <td>...</td>\n",
       "      <td>10</td>\n",
       "      <td>1196846.0</td>\n",
       "      <td>1842514.0</td>\n",
       "      <td>2016</td>\n",
       "      <td>05/03/2016 03:51:27 PM</td>\n",
       "      <td>41.722725</td>\n",
       "      <td>-87.554566</td>\n",
       "      <td>(41.722725152, -87.554566354)</td>\n",
       "      <td>20:12:00</td>\n",
       "      <td>4</td>\n",
       "    </tr>\n",
       "    <tr>\n",
       "      <th>1</th>\n",
       "      <td>1</td>\n",
       "      <td>82</td>\n",
       "      <td>10500188</td>\n",
       "      <td>HZ241310</td>\n",
       "      <td>2016-04-26</td>\n",
       "      <td>0000X W JACKSON BLVD</td>\n",
       "      <td>0810</td>\n",
       "      <td>THEFT</td>\n",
       "      <td>OVER $500</td>\n",
       "      <td>SIDEWALK</td>\n",
       "      <td>...</td>\n",
       "      <td>06</td>\n",
       "      <td>1175785.0</td>\n",
       "      <td>1898975.0</td>\n",
       "      <td>2016</td>\n",
       "      <td>05/03/2016 03:51:27 PM</td>\n",
       "      <td>41.878157</td>\n",
       "      <td>-87.630017</td>\n",
       "      <td>(41.878156557, -87.630017482)</td>\n",
       "      <td>09:00:00</td>\n",
       "      <td>4</td>\n",
       "    </tr>\n",
       "    <tr>\n",
       "      <th>2</th>\n",
       "      <td>2</td>\n",
       "      <td>104</td>\n",
       "      <td>10500189</td>\n",
       "      <td>HZ241506</td>\n",
       "      <td>2016-04-26</td>\n",
       "      <td>054XX W MADISON ST</td>\n",
       "      <td>0820</td>\n",
       "      <td>THEFT</td>\n",
       "      <td>$500 AND UNDER</td>\n",
       "      <td>PARKING LOT/GARAGE(NON.RESID.)</td>\n",
       "      <td>...</td>\n",
       "      <td>06</td>\n",
       "      <td>1139904.0</td>\n",
       "      <td>1899485.0</td>\n",
       "      <td>2016</td>\n",
       "      <td>05/03/2016 03:51:27 PM</td>\n",
       "      <td>41.880287</td>\n",
       "      <td>-87.761753</td>\n",
       "      <td>(41.880287347, -87.761752861)</td>\n",
       "      <td>17:35:00</td>\n",
       "      <td>4</td>\n",
       "    </tr>\n",
       "    <tr>\n",
       "      <th>3</th>\n",
       "      <td>3</td>\n",
       "      <td>148</td>\n",
       "      <td>10500190</td>\n",
       "      <td>HZ241483</td>\n",
       "      <td>2016-04-26</td>\n",
       "      <td>013XX S LAWNDALE AVE</td>\n",
       "      <td>4387</td>\n",
       "      <td>OTHER OFFENSE</td>\n",
       "      <td>VIOLATE ORDER OF PROTECTION</td>\n",
       "      <td>APARTMENT</td>\n",
       "      <td>...</td>\n",
       "      <td>26</td>\n",
       "      <td>1151918.0</td>\n",
       "      <td>1893645.0</td>\n",
       "      <td>2016</td>\n",
       "      <td>05/03/2016 03:51:27 PM</td>\n",
       "      <td>41.864034</td>\n",
       "      <td>-87.717792</td>\n",
       "      <td>(41.864033702, -87.717792133)</td>\n",
       "      <td>20:32:00</td>\n",
       "      <td>4</td>\n",
       "    </tr>\n",
       "    <tr>\n",
       "      <th>4</th>\n",
       "      <td>4</td>\n",
       "      <td>170</td>\n",
       "      <td>10500192</td>\n",
       "      <td>HZ241468</td>\n",
       "      <td>2016-04-26</td>\n",
       "      <td>048XX N KENMORE AVE</td>\n",
       "      <td>0810</td>\n",
       "      <td>THEFT</td>\n",
       "      <td>OVER $500</td>\n",
       "      <td>STREET</td>\n",
       "      <td>...</td>\n",
       "      <td>06</td>\n",
       "      <td>1168378.0</td>\n",
       "      <td>1932431.0</td>\n",
       "      <td>2016</td>\n",
       "      <td>05/03/2016 03:51:27 PM</td>\n",
       "      <td>41.970125</td>\n",
       "      <td>-87.656244</td>\n",
       "      <td>(41.970124931, -87.656244114)</td>\n",
       "      <td>07:45:00</td>\n",
       "      <td>4</td>\n",
       "    </tr>\n",
       "    <tr>\n",
       "      <th>5</th>\n",
       "      <td>5</td>\n",
       "      <td>279</td>\n",
       "      <td>10500193</td>\n",
       "      <td>HZ241495</td>\n",
       "      <td>2016-04-26</td>\n",
       "      <td>074XX S EXCHANGE AVE</td>\n",
       "      <td>0486</td>\n",
       "      <td>BATTERY</td>\n",
       "      <td>DOMESTIC BATTERY SIMPLE</td>\n",
       "      <td>SIDEWALK</td>\n",
       "      <td>...</td>\n",
       "      <td>08B</td>\n",
       "      <td>1194976.0</td>\n",
       "      <td>1856017.0</td>\n",
       "      <td>2016</td>\n",
       "      <td>05/03/2016 03:51:27 PM</td>\n",
       "      <td>41.759825</td>\n",
       "      <td>-87.560972</td>\n",
       "      <td>(41.759824717, -87.5609719)</td>\n",
       "      <td>21:00:00</td>\n",
       "      <td>4</td>\n",
       "    </tr>\n",
       "    <tr>\n",
       "      <th>6</th>\n",
       "      <td>6</td>\n",
       "      <td>451</td>\n",
       "      <td>10500194</td>\n",
       "      <td>HZ240381</td>\n",
       "      <td>2016-04-26</td>\n",
       "      <td>0000X W HUBBARD ST</td>\n",
       "      <td>0460</td>\n",
       "      <td>BATTERY</td>\n",
       "      <td>SIMPLE</td>\n",
       "      <td>SIDEWALK</td>\n",
       "      <td>...</td>\n",
       "      <td>08B</td>\n",
       "      <td>1176165.0</td>\n",
       "      <td>1903315.0</td>\n",
       "      <td>2016</td>\n",
       "      <td>05/03/2016 03:51:27 PM</td>\n",
       "      <td>41.890057</td>\n",
       "      <td>-87.628491</td>\n",
       "      <td>(41.890057206, -87.628491342)</td>\n",
       "      <td>03:40:00</td>\n",
       "      <td>4</td>\n",
       "    </tr>\n",
       "    <tr>\n",
       "      <th>7</th>\n",
       "      <td>7</td>\n",
       "      <td>600</td>\n",
       "      <td>10500195</td>\n",
       "      <td>HZ241287</td>\n",
       "      <td>2016-04-26</td>\n",
       "      <td>007XX N AUSTIN BLVD</td>\n",
       "      <td>0320</td>\n",
       "      <td>ROBBERY</td>\n",
       "      <td>STRONGARM - NO WEAPON</td>\n",
       "      <td>SIDEWALK</td>\n",
       "      <td>...</td>\n",
       "      <td>03</td>\n",
       "      <td>1136246.0</td>\n",
       "      <td>1904116.0</td>\n",
       "      <td>2016</td>\n",
       "      <td>05/03/2016 03:51:27 PM</td>\n",
       "      <td>41.893061</td>\n",
       "      <td>-87.775074</td>\n",
       "      <td>(41.89306149, -87.775074235)</td>\n",
       "      <td>18:01:00</td>\n",
       "      <td>4</td>\n",
       "    </tr>\n",
       "    <tr>\n",
       "      <th>8</th>\n",
       "      <td>8</td>\n",
       "      <td>644</td>\n",
       "      <td>10500197</td>\n",
       "      <td>HZ241479</td>\n",
       "      <td>2016-04-26</td>\n",
       "      <td>070XX S EAST END AVE</td>\n",
       "      <td>0560</td>\n",
       "      <td>ASSAULT</td>\n",
       "      <td>SIMPLE</td>\n",
       "      <td>APARTMENT</td>\n",
       "      <td>...</td>\n",
       "      <td>08A</td>\n",
       "      <td>1188992.0</td>\n",
       "      <td>1858707.0</td>\n",
       "      <td>2016</td>\n",
       "      <td>05/03/2016 03:51:27 PM</td>\n",
       "      <td>41.767352</td>\n",
       "      <td>-87.582817</td>\n",
       "      <td>(41.767351647, -87.582816839)</td>\n",
       "      <td>20:24:00</td>\n",
       "      <td>4</td>\n",
       "    </tr>\n",
       "    <tr>\n",
       "      <th>9</th>\n",
       "      <td>9</td>\n",
       "      <td>666</td>\n",
       "      <td>10500198</td>\n",
       "      <td>HZ241063</td>\n",
       "      <td>2016-04-26</td>\n",
       "      <td>001XX S LAVERGNE AVE</td>\n",
       "      <td>0890</td>\n",
       "      <td>THEFT</td>\n",
       "      <td>FROM BUILDING</td>\n",
       "      <td>RESIDENCE</td>\n",
       "      <td>...</td>\n",
       "      <td>06</td>\n",
       "      <td>1143278.0</td>\n",
       "      <td>1899110.0</td>\n",
       "      <td>2016</td>\n",
       "      <td>05/03/2016 03:51:27 PM</td>\n",
       "      <td>41.879196</td>\n",
       "      <td>-87.749373</td>\n",
       "      <td>(41.87919597, -87.749373105)</td>\n",
       "      <td>14:53:00</td>\n",
       "      <td>4</td>\n",
       "    </tr>\n",
       "  </tbody>\n",
       "</table>\n",
       "<p>10 rows × 26 columns</p>\n",
       "</div>"
      ],
      "text/plain": [
       "   Unnamed: 0  Unnamed: 0.1        ID Case Number        Date  \\\n",
       "0           0            18  10500187    HZ241477  2016-04-26   \n",
       "1           1            82  10500188    HZ241310  2016-04-26   \n",
       "2           2           104  10500189    HZ241506  2016-04-26   \n",
       "3           3           148  10500190    HZ241483  2016-04-26   \n",
       "4           4           170  10500192    HZ241468  2016-04-26   \n",
       "5           5           279  10500193    HZ241495  2016-04-26   \n",
       "6           6           451  10500194    HZ240381  2016-04-26   \n",
       "7           7           600  10500195    HZ241287  2016-04-26   \n",
       "8           8           644  10500197    HZ241479  2016-04-26   \n",
       "9           9           666  10500198    HZ241063  2016-04-26   \n",
       "\n",
       "                  Block  IUCR        Primary Type  \\\n",
       "0       028XX E 95TH ST  1121  DECEPTIVE PRACTICE   \n",
       "1  0000X W JACKSON BLVD  0810               THEFT   \n",
       "2    054XX W MADISON ST  0820               THEFT   \n",
       "3  013XX S LAWNDALE AVE  4387       OTHER OFFENSE   \n",
       "4   048XX N KENMORE AVE  0810               THEFT   \n",
       "5  074XX S EXCHANGE AVE  0486             BATTERY   \n",
       "6    0000X W HUBBARD ST  0460             BATTERY   \n",
       "7   007XX N AUSTIN BLVD  0320             ROBBERY   \n",
       "8  070XX S EAST END AVE  0560             ASSAULT   \n",
       "9  001XX S LAVERGNE AVE  0890               THEFT   \n",
       "\n",
       "                   Description            Location Description  ...    \\\n",
       "0      COUNTERFEITING DOCUMENT                     GAS STATION  ...     \n",
       "1                    OVER $500                        SIDEWALK  ...     \n",
       "2               $500 AND UNDER  PARKING LOT/GARAGE(NON.RESID.)  ...     \n",
       "3  VIOLATE ORDER OF PROTECTION                       APARTMENT  ...     \n",
       "4                    OVER $500                          STREET  ...     \n",
       "5      DOMESTIC BATTERY SIMPLE                        SIDEWALK  ...     \n",
       "6                       SIMPLE                        SIDEWALK  ...     \n",
       "7        STRONGARM - NO WEAPON                        SIDEWALK  ...     \n",
       "8                       SIMPLE                       APARTMENT  ...     \n",
       "9                FROM BUILDING                       RESIDENCE  ...     \n",
       "\n",
       "   FBI Code  X Coordinate  Y Coordinate  Year              Updated On  \\\n",
       "0        10     1196846.0     1842514.0  2016  05/03/2016 03:51:27 PM   \n",
       "1        06     1175785.0     1898975.0  2016  05/03/2016 03:51:27 PM   \n",
       "2        06     1139904.0     1899485.0  2016  05/03/2016 03:51:27 PM   \n",
       "3        26     1151918.0     1893645.0  2016  05/03/2016 03:51:27 PM   \n",
       "4        06     1168378.0     1932431.0  2016  05/03/2016 03:51:27 PM   \n",
       "5       08B     1194976.0     1856017.0  2016  05/03/2016 03:51:27 PM   \n",
       "6       08B     1176165.0     1903315.0  2016  05/03/2016 03:51:27 PM   \n",
       "7        03     1136246.0     1904116.0  2016  05/03/2016 03:51:27 PM   \n",
       "8       08A     1188992.0     1858707.0  2016  05/03/2016 03:51:27 PM   \n",
       "9        06     1143278.0     1899110.0  2016  05/03/2016 03:51:27 PM   \n",
       "\n",
       "    Latitude  Longitude                       Location      Time  Month  \n",
       "0  41.722725 -87.554566  (41.722725152, -87.554566354)  20:12:00      4  \n",
       "1  41.878157 -87.630017  (41.878156557, -87.630017482)  09:00:00      4  \n",
       "2  41.880287 -87.761753  (41.880287347, -87.761752861)  17:35:00      4  \n",
       "3  41.864034 -87.717792  (41.864033702, -87.717792133)  20:32:00      4  \n",
       "4  41.970125 -87.656244  (41.970124931, -87.656244114)  07:45:00      4  \n",
       "5  41.759825 -87.560972    (41.759824717, -87.5609719)  21:00:00      4  \n",
       "6  41.890057 -87.628491  (41.890057206, -87.628491342)  03:40:00      4  \n",
       "7  41.893061 -87.775074   (41.89306149, -87.775074235)  18:01:00      4  \n",
       "8  41.767352 -87.582817  (41.767351647, -87.582816839)  20:24:00      4  \n",
       "9  41.879196 -87.749373   (41.87919597, -87.749373105)  14:53:00      4  \n",
       "\n",
       "[10 rows x 26 columns]"
      ]
     },
     "execution_count": 3,
     "metadata": {},
     "output_type": "execute_result"
    }
   ],
   "source": [
    "Crime_data_Final[:10]"
   ]
  },
  {
   "cell_type": "code",
   "execution_count": 4,
   "metadata": {
    "collapsed": true
   },
   "outputs": [],
   "source": [
    "#BURGLARY , THEFT\n",
    "Crime_data_Final = Crime_data_Final.loc[Crime_data_Final['Primary Type'].isin([\"BURGLARY\", \"THEFT\", \"NARCOTICS\", \"ROBBERY\", \"HOMICIDE\"]) ]"
   ]
  },
  {
   "cell_type": "code",
   "execution_count": null,
   "metadata": {
    "collapsed": true
   },
   "outputs": [],
   "source": [
    "Crime_data_Final[:10]"
   ]
  },
  {
   "cell_type": "code",
   "execution_count": null,
   "metadata": {
    "collapsed": true
   },
   "outputs": [],
   "source": [
    "Crime_data_Final.shape"
   ]
  },
  {
   "cell_type": "code",
   "execution_count": null,
   "metadata": {
    "collapsed": true
   },
   "outputs": [],
   "source": [
    "list(Crime_data_Final)"
   ]
  },
  {
   "cell_type": "markdown",
   "metadata": {},
   "source": [
    "### SVM"
   ]
  },
  {
   "cell_type": "code",
   "execution_count": 5,
   "metadata": {
    "collapsed": true
   },
   "outputs": [],
   "source": [
    "frame = Crime_data_Final[[\"Year\", \"Month\", \"Location Description\", \"Primary Type\", \"Community Area\"]]"
   ]
  },
  {
   "cell_type": "code",
   "execution_count": 6,
   "metadata": {},
   "outputs": [
    {
     "data": {
      "text/html": [
       "<div>\n",
       "<style>\n",
       "    .dataframe thead tr:only-child th {\n",
       "        text-align: right;\n",
       "    }\n",
       "\n",
       "    .dataframe thead th {\n",
       "        text-align: left;\n",
       "    }\n",
       "\n",
       "    .dataframe tbody tr th {\n",
       "        vertical-align: top;\n",
       "    }\n",
       "</style>\n",
       "<table border=\"1\" class=\"dataframe\">\n",
       "  <thead>\n",
       "    <tr style=\"text-align: right;\">\n",
       "      <th></th>\n",
       "      <th>Year</th>\n",
       "      <th>Month</th>\n",
       "      <th>Location Description</th>\n",
       "      <th>Primary Type</th>\n",
       "      <th>Community Area</th>\n",
       "    </tr>\n",
       "  </thead>\n",
       "  <tbody>\n",
       "    <tr>\n",
       "      <th>1</th>\n",
       "      <td>2016</td>\n",
       "      <td>4</td>\n",
       "      <td>SIDEWALK</td>\n",
       "      <td>THEFT</td>\n",
       "      <td>32.0</td>\n",
       "    </tr>\n",
       "    <tr>\n",
       "      <th>2</th>\n",
       "      <td>2016</td>\n",
       "      <td>4</td>\n",
       "      <td>PARKING LOT/GARAGE(NON.RESID.)</td>\n",
       "      <td>THEFT</td>\n",
       "      <td>25.0</td>\n",
       "    </tr>\n",
       "    <tr>\n",
       "      <th>4</th>\n",
       "      <td>2016</td>\n",
       "      <td>4</td>\n",
       "      <td>STREET</td>\n",
       "      <td>THEFT</td>\n",
       "      <td>3.0</td>\n",
       "    </tr>\n",
       "  </tbody>\n",
       "</table>\n",
       "</div>"
      ],
      "text/plain": [
       "   Year  Month            Location Description Primary Type  Community Area\n",
       "1  2016      4                        SIDEWALK        THEFT            32.0\n",
       "2  2016      4  PARKING LOT/GARAGE(NON.RESID.)        THEFT            25.0\n",
       "4  2016      4                          STREET        THEFT             3.0"
      ]
     },
     "execution_count": 6,
     "metadata": {},
     "output_type": "execute_result"
    }
   ],
   "source": [
    "frame[:3]"
   ]
  },
  {
   "cell_type": "code",
   "execution_count": null,
   "metadata": {
    "collapsed": true
   },
   "outputs": [],
   "source": [
    "dtypeCount =[frame.iloc[:,i].apply(type).value_counts() for i in range(frame.shape[1])]"
   ]
  },
  {
   "cell_type": "code",
   "execution_count": null,
   "metadata": {
    "collapsed": true
   },
   "outputs": [],
   "source": [
    "dtypeCount"
   ]
  },
  {
   "cell_type": "code",
   "execution_count": null,
   "metadata": {
    "collapsed": true
   },
   "outputs": [],
   "source": [
    "print(frame[\"Year\"].dtype)"
   ]
  },
  {
   "cell_type": "code",
   "execution_count": null,
   "metadata": {
    "collapsed": true
   },
   "outputs": [],
   "source": [
    "frame[:3]"
   ]
  },
  {
   "cell_type": "code",
   "execution_count": 7,
   "metadata": {},
   "outputs": [
    {
     "data": {
      "text/plain": [
       "array([[ 2016.,     4.,   127.,    32.],\n",
       "       [ 2016.,     4.,   106.,    25.],\n",
       "       [ 2016.,     4.,   131.,     3.],\n",
       "       ..., \n",
       "       [ 2016.,     4.,    17.,    43.],\n",
       "       [ 2016.,     4.,    17.,    40.],\n",
       "       [ 2016.,     4.,    81.,    28.]])"
      ]
     },
     "execution_count": 7,
     "metadata": {},
     "output_type": "execute_result"
    }
   ],
   "source": [
    "from sklearn.preprocessing import LabelEncoder, OneHotEncoder, StandardScaler\n",
    "y = frame['Primary Type'].values\n",
    "# convert the labels from strings to numbers (0,1,2....)\n",
    "y = LabelEncoder().fit_transform(y)\n",
    "\n",
    "frame1 = frame.drop(['Primary Type'], axis=1)\n",
    "\n",
    "for f in frame1.columns:\n",
    "    if frame1[f].dtype == 'object':\n",
    "        lbl_enc = LabelEncoder()\n",
    "        # same as above encoding. it takes every object dtype from \n",
    "        # pandas dataframe and converts to numerical labels\n",
    "        frame1[f] = lbl_enc.fit_transform(frame1[f].values)\n",
    "\n",
    "frame1\n",
    "X = frame1.values\n",
    "X\n",
    "# # binarize the encoded columns. this is not needed if you are using a tree based algorithm\n",
    "#ohe = OneHotEncoder(categorical_features=[0, 1, 4, 5, 6])\n",
    "# X = ohe.fit_transform(X)\n",
    "\n",
    "# use the following for SVMs (with_mean=False for sparse data)\n",
    "#scl = StandardScaler()\n",
    "#X = scl.fit_transform(X)\n",
    "# fit model here: model.fit(X, y)"
   ]
  },
  {
   "cell_type": "code",
   "execution_count": 8,
   "metadata": {},
   "outputs": [
    {
     "data": {
      "text/plain": [
       "array([[ 1.28744603, -0.75028991,  0.65938658, -0.1792198 ],\n",
       "       [ 1.28744603, -0.75028991,  0.13506568, -0.50672231],\n",
       "       [ 1.28744603, -0.75028991,  0.75925723, -1.53601591],\n",
       "       ..., \n",
       "       [ 1.28744603, -0.75028991, -2.08705625,  0.335427  ],\n",
       "       [ 1.28744603, -0.75028991, -2.08705625,  0.19506878],\n",
       "       [ 1.28744603, -0.75028991, -0.48912587, -0.36636409]])"
      ]
     },
     "execution_count": 8,
     "metadata": {},
     "output_type": "execute_result"
    }
   ],
   "source": [
    "#X = ohe.fit_transform(X)\n",
    "\n",
    "# use the following for SVMs (with_mean=False for sparse data)\n",
    "scl = StandardScaler()\n",
    "X = scl.fit_transform(X)\n",
    "X"
   ]
  },
  {
   "cell_type": "code",
   "execution_count": 9,
   "metadata": {},
   "outputs": [
    {
     "name": "stderr",
     "output_type": "stream",
     "text": [
      "/Users/chandanramanna/anaconda/lib/python3.6/site-packages/sklearn/cross_validation.py:44: DeprecationWarning:\n",
      "\n",
      "This module was deprecated in version 0.18 in favor of the model_selection module into which all the refactored classes and functions are moved. Also note that the interface of the new CV iterators are different from that of this module. This module will be removed in 0.20.\n",
      "\n"
     ]
    }
   ],
   "source": [
    "from sklearn.cross_validation import train_test_split\n",
    "x_train, x_test, y_train, y_test = train_test_split(X, y, test_size=0.3, random_state=1)"
   ]
  },
  {
   "cell_type": "code",
   "execution_count": null,
   "metadata": {
    "collapsed": true
   },
   "outputs": [],
   "source": [
    "from sklearn import svm\n",
    "clf = svm.SVC()\n",
    "clf.fit(x_train,y_train)"
   ]
  },
  {
   "cell_type": "code",
   "execution_count": null,
   "metadata": {
    "collapsed": true
   },
   "outputs": [],
   "source": [
    "svm_prediction = clf.predict(x_test)\n",
    "svm_prediction"
   ]
  },
  {
   "cell_type": "code",
   "execution_count": null,
   "metadata": {
    "collapsed": true
   },
   "outputs": [],
   "source": [
    "y_train"
   ]
  },
  {
   "cell_type": "code",
   "execution_count": null,
   "metadata": {
    "collapsed": true
   },
   "outputs": [],
   "source": [
    "import sklearn\n",
    "acc = sklearn.metrics.accuracy_score(y_test, svm_prediction)\n",
    "acc"
   ]
  },
  {
   "cell_type": "markdown",
   "metadata": {},
   "source": [
    "### KNN"
   ]
  },
  {
   "cell_type": "code",
   "execution_count": null,
   "metadata": {
    "collapsed": true
   },
   "outputs": [],
   "source": [
    "from sklearn.neighbors import KNeighborsClassifier\n",
    "knn = KNeighborsClassifier()\n",
    "print(knn.fit(x_train, y_train))"
   ]
  },
  {
   "cell_type": "code",
   "execution_count": null,
   "metadata": {
    "collapsed": true
   },
   "outputs": [],
   "source": [
    "predicted = knn.predict(x_test)\n",
    "predicted"
   ]
  },
  {
   "cell_type": "code",
   "execution_count": null,
   "metadata": {
    "collapsed": true
   },
   "outputs": [],
   "source": [
    "y_test"
   ]
  },
  {
   "cell_type": "code",
   "execution_count": null,
   "metadata": {
    "collapsed": true
   },
   "outputs": [],
   "source": [
    "import sklearn\n",
    "acc = sklearn.metrics.accuracy_score(y_test, predicted)\n",
    "acc"
   ]
  },
  {
   "cell_type": "markdown",
   "metadata": {},
   "source": [
    "### Trying to plot the scatter plots"
   ]
  },
  {
   "cell_type": "code",
   "execution_count": 11,
   "metadata": {},
   "outputs": [
    {
     "data": {
      "image/png": "[encoded data removed]",
      "text/plain": [
       "<matplotlib.figure.Figure at 0x11426c6d8>"
      ]
     },
     "metadata": {},
     "output_type": "display_data"
    }
   ],
   "source": [
    "from sklearn.datasets.samples_generator import make_blobs\n",
    "X, y = make_blobs(n_samples=100, centers=5,\n",
    "                  random_state=0, cluster_std=0.60)\n",
    "plt.scatter(X[:, 0], X[:, 1], c=y, s=50, cmap='autumn');"
   ]
  },
  {
   "cell_type": "code",
   "execution_count": 12,
   "metadata": {},
   "outputs": [
    {
     "data": {
      "image/png": "[encoded data removed]",
      "text/plain": [
       "<matplotlib.figure.Figure at 0x1145ba358>"
      ]
     },
     "metadata": {},
     "output_type": "display_data"
    }
   ],
   "source": [
    "xfit = np.linspace(-1, 3.5)\n",
    "plt.scatter(X[:, 0], X[:, 1], c=y, s=50, cmap='autumn')\n",
    "plt.plot([0.6], [2.1], 'x', color='red', markeredgewidth=2, markersize=10)\n",
    "\n",
    "for m, b in [(1, 0.65)]:\n",
    "    plt.plot(xfit, m * xfit + b, '-k')\n",
    "\n",
    "plt.xlim(-1, 3.5);"
   ]
  },
  {
   "cell_type": "code",
   "execution_count": 10,
   "metadata": {
    "collapsed": true
   },
   "outputs": [],
   "source": [
    "import numpy as np\n",
    "import matplotlib.pyplot as plt\n",
    "# Though the following import is not directly being used, it is required\n",
    "# for 3D projection to work\n",
    "from mpl_toolkits.mplot3d import Axes3D\n",
    "\n",
    "from sklearn.cluster import KMeans\n",
    "from sklearn import datasets\n",
    "from cycler import cycler\n"
   ]
  },
  {
   "cell_type": "code",
   "execution_count": 13,
   "metadata": {
    "collapsed": true
   },
   "outputs": [],
   "source": [
    "np.random.seed(5)\n",
    "\n",
    "\n",
    "estimators = [('k_means_iris_8', KMeans(n_clusters=5)),\n",
    "              ('k_means_iris_3', KMeans(n_clusters=5)),\n",
    "              ('k_means_iris_bad_init', KMeans(n_clusters=5, n_init=1,\n",
    "                                               init='random'))]\n",
    "\n",
    "fignum = 1\n"
   ]
  },
  {
   "cell_type": "code",
   "execution_count": 22,
   "metadata": {},
   "outputs": [
    {
     "data": {
      "image/png": "[encoded data removed]",
      "text/plain": [
       "<matplotlib.figure.Figure at 0x1155b27f0>"
      ]
     },
     "metadata": {},
     "output_type": "display_data"
    },
    {
     "data": {
      "image/png": "[encoded data removed]",
      "text/plain": [
       "<matplotlib.figure.Figure at 0x1155d3e48>"
      ]
     },
     "metadata": {},
     "output_type": "display_data"
    },
    {
     "data": {
      "image/png": "[encoded data removed]",
      "text/plain": [
       "<matplotlib.figure.Figure at 0x11572f9e8>"
      ]
     },
     "metadata": {},
     "output_type": "display_data"
    },
    {
     "data": {
      "text/plain": [
       "<matplotlib.figure.Figure at 0x1155b2828>"
      ]
     },
     "metadata": {},
     "output_type": "display_data"
    }
   ],
   "source": [
    "titles = ['8 clusters', '3 clusters', '3 clusters', 'bad initialization']\n",
    "for name, est in estimators:\n",
    "    fig = plt.figure(fignum, figsize=(4, 3))\n",
    "    ax = Axes3D(fig, rect=[0, 0, .95, 1], elev=48, azim=134)\n",
    "    est.fit(X)\n",
    "    labels = est.labels_\n",
    "\n",
    "    ax.scatter(X[:, 1], X[:, 0], X[:, 1],\n",
    "               c=labels.astype(np.float), edgecolor='k')\n",
    "\n",
    "    ax.w_xaxis.set_ticklabels([])\n",
    "    ax.w_yaxis.set_ticklabels([])\n",
    "    ax.w_zaxis.set_ticklabels([])\n",
    "    \n",
    "    ax.set_prop_cycle(cycler('color', ['c', 'm', 'y', 'k']) +\n",
    "                   cycler('lw', [1, 2, 3, 4]))\n",
    "    #ax.set_title(titles[fignum - 1])\n",
    "    ax.dist = 12\n",
    "    fignum = fignum + 1\n",
    "\n",
    "# Plot the ground truth\n",
    "fig = plt.figure(fignum, figsize=(4, 3))\n"
   ]
  },
  {
   "cell_type": "code",
   "execution_count": 23,
   "metadata": {},
   "outputs": [
    {
     "ename": "AttributeError",
     "evalue": "'Axes' object has no attribute 'text3D'",
     "output_type": "error",
     "traceback": [
      "\u001b[0;31m---------------------------------------------------------------------------\u001b[0m",
      "\u001b[0;31mAttributeError\u001b[0m                            Traceback (most recent call last)",
      "\u001b[0;32m<ipython-input-23-db74fee70535>\u001b[0m in \u001b[0;36m<module>\u001b[0;34m()\u001b[0m\n\u001b[1;32m      5\u001b[0m                     \u001b[0;34m(\u001b[0m\u001b[0;34m'Versicolour'\u001b[0m\u001b[0;34m,\u001b[0m \u001b[0;36m1\u001b[0m\u001b[0;34m)\u001b[0m\u001b[0;34m,\u001b[0m\u001b[0;34m\u001b[0m\u001b[0m\n\u001b[1;32m      6\u001b[0m                     ('Virginica', 2)]:\n\u001b[0;32m----> 7\u001b[0;31m     ax.text3D(X[y == label, 1].mean(),\n\u001b[0m\u001b[1;32m      8\u001b[0m               \u001b[0mX\u001b[0m\u001b[0;34m[\u001b[0m\u001b[0my\u001b[0m \u001b[0;34m==\u001b[0m \u001b[0mlabel\u001b[0m\u001b[0;34m,\u001b[0m \u001b[0;36m0\u001b[0m\u001b[0;34m]\u001b[0m\u001b[0;34m.\u001b[0m\u001b[0mmean\u001b[0m\u001b[0;34m(\u001b[0m\u001b[0;34m)\u001b[0m\u001b[0;34m,\u001b[0m\u001b[0;34m\u001b[0m\u001b[0m\n\u001b[1;32m      9\u001b[0m               \u001b[0mX\u001b[0m\u001b[0;34m[\u001b[0m\u001b[0my\u001b[0m \u001b[0;34m==\u001b[0m \u001b[0mlabel\u001b[0m\u001b[0;34m,\u001b[0m \u001b[0;36m1\u001b[0m\u001b[0;34m]\u001b[0m\u001b[0;34m.\u001b[0m\u001b[0mmean\u001b[0m\u001b[0;34m(\u001b[0m\u001b[0;34m)\u001b[0m \u001b[0;34m+\u001b[0m \u001b[0;36m2\u001b[0m\u001b[0;34m,\u001b[0m \u001b[0mname\u001b[0m\u001b[0;34m,\u001b[0m\u001b[0;34m\u001b[0m\u001b[0m\n",
      "\u001b[0;31mAttributeError\u001b[0m: 'Axes' object has no attribute 'text3D'"
     ]
    }
   ],
   "source": [
    "ax = fig.add_axes()\n",
    "ax = fig.add_axes([0, 0, 1, 1])\n",
    "\n",
    "for name, label in [('Setosa', 0),\n",
    "                    ('Versicolour', 1),\n",
    "                    ('Virginica', 2)]:\n",
    "    ax.text3D(X[y == label, 1].mean(),\n",
    "              X[y == label, 0].mean(),\n",
    "              X[y == label, 1].mean() + 2, name,\n",
    "              horizontalalignment='center',\n",
    "              bbox=dict(alpha=.2, edgecolor='w', facecolor='w'))\n",
    "# Reorder the labels to have colors matching the cluster results\n",
    "#y = np.choose(y, [1, 2, 0]).astype(np.float)\n",
    "ax.scatter(X[:, 1], X[:, 0], X[:, 1], c=y, edgecolor='k')\n",
    "\n",
    "ax.w_xaxis.set_ticklabels([])\n",
    "ax.w_yaxis.set_ticklabels([])\n",
    "ax.w_zaxis.set_ticklabels([])\n",
    "\n",
    "ax.dist = 12\n",
    "\n",
    "fig.show()"
   ]
  },
  {
   "cell_type": "code",
   "execution_count": 16,
   "metadata": {},
   "outputs": [
    {
     "data": {
      "text/plain": [
       "<matplotlib.axes._subplots.AxesSubplot at 0x11427ff98>"
      ]
     },
     "execution_count": 16,
     "metadata": {},
     "output_type": "execute_result"
    }
   ],
   "source": []
  },
  {
   "cell_type": "code",
   "execution_count": null,
   "metadata": {
    "collapsed": true
   },
   "outputs": [],
   "source": []
  }
 ],
 "metadata": {
  "kernelspec": {
   "display_name": "Python 3",
   "language": "python",
   "name": "python3"
  },
  "language_info": {
   "codemirror_mode": {
    "name": "ipython",
    "version": 3
   },
   "file_extension": ".py",
   "mimetype": "text/x-python",
   "name": "python",
   "nbconvert_exporter": "python",
   "pygments_lexer": "ipython3",
   "version": "3.6.2"
  }
 },
 "nbformat": 4,
 "nbformat_minor": 2
}
